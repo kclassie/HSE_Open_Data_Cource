{
  "nbformat": 4,
  "nbformat_minor": 0,
  "metadata": {
    "colab": {
      "provenance": [],
      "include_colab_link": true
    },
    "kernelspec": {
      "display_name": "Python 3",
      "name": "python3"
    }
  },
  "cells": [
    {
      "cell_type": "markdown",
      "metadata": {
        "id": "view-in-github",
        "colab_type": "text"
      },
      "source": [
        "<a href=\"https://colab.research.google.com/github/kclassie/HSE_Open_Data_Cource/blob/main/%D0%98%D1%81%D0%BF%D0%BE%D0%BB%D1%8C%D0%B7%D0%BE%D0%B2%D0%B0%D0%BD%D0%B8%D0%B5_API.ipynb\" target=\"_parent\"><img src=\"https://colab.research.google.com/assets/colab-badge.svg\" alt=\"Open In Colab\"/></a>"
      ]
    },
    {
      "cell_type": "markdown",
      "metadata": {
        "id": "K0o-EwMkcS1a"
      },
      "source": [
        "# ТЕМА: возможности использования API (на примере проекта \"Госрасходы\" и ЕПБС)"
      ]
    },
    {
      "cell_type": "markdown",
      "metadata": {
        "id": "IbyHwfejgH2N"
      },
      "source": [
        "Ссылка на проект \"Госрасходы\": https://spending.gov.ru/\n",
        "\n",
        "Ссылка на документацию API: https://code.ach.gov.ru/sgr/spending-api-docs/-/wikis/home"
      ]
    },
    {
      "cell_type": "markdown",
      "metadata": {
        "id": "6x3VYa_lJwmj"
      },
      "source": [
        "##Инструменты##\n",
        "\n",
        "Python 3 (https://www.python.org/downloads/)\n",
        "\n",
        "Jupyter Notebook (https://jupyter.org/)\n",
        "\n",
        "Google Colaboratoty (https://colab.research.google.com/notebooks/welcome.ipynb?hl=ru)"
      ]
    },
    {
      "cell_type": "markdown",
      "source": [],
      "metadata": {
        "id": "ZcifdSpw0beM"
      }
    },
    {
      "cell_type": "markdown",
      "metadata": {
        "id": "-_B_WfAXmE8d"
      },
      "source": [
        "#1) Формирование запроса к API#\n",
        "\n",
        "##1.1 Методы **GET**, **SEARCH**, **SELECT**##\n",
        "\n",
        "- GET - получение сведений о конкретных контрактах по по регистрационному номеру (в выдаче - 1 контракт);\n",
        "- SEARCH - полнотестовый поиск по контрактам, ограничение на выдачу - 500 контрактов;\n",
        "- SELECT - поиск по точному значению (нет ограничения по выдаче).\n",
        "\n",
        "**Параметры запроса можно (и нужно) сочетать**\n",
        "\n",
        "**Пример 1**: поиск контрактов (всех, и 44ФЗ, и 223ФЗ) по коду региона заказчика\n",
        "https://api.spending.gov.ru/v1/contracts/select/?customerregion=05\n",
        "\n",
        "**Пример 2**: поиск контрактов  только по 44ФЗ и коду региона заказчика \n",
        "https://api.spending.gov.ru/v1/contracts/select/?fz=44&customerregion=05\n",
        "\n",
        "**Пример 3**: поиск контрактов только по 44ФЗ и коду региона заказчика за 2020 год\n",
        "https://api.spending.gov.ru/v1/contracts/select/?fz=44&customerregion=05&daterange=01.01.2020-01.01.2020\n",
        "\n",
        "\n",
        "\n",
        "\n",
        "##1.2 Сортировка выдачи ##\n",
        "\n",
        "**По цене контракта** - параметр price:\n",
        "\n",
        "https://api.spending.gov.ru/v1/contracts/select/?fz=44&customerregion=05&sort=price (от меньшей к большей)\n",
        "\n",
        "https://api.spending.gov.ru/v1/contracts/select/?fz=44&customerregion=05&sort=-price (от большей к меньшей)\n",
        "\n",
        "**По дате подписания контракта** - параметр signDate\n",
        "\n",
        "https://api.spending.gov.ru/v1/contracts/select/?fz=44&customerregion=05&sort=signDate (от ранних к поздним)\n",
        "\n",
        "https://api.spending.gov.ru/v1/contracts/select/?fz=44&customerregion=05&sort=-signDate (от поздних к ранним)"
      ]
    },
    {
      "cell_type": "markdown",
      "metadata": {
        "id": "7Tg6_ZcHMRsp"
      },
      "source": [
        "## 2. Написание кода для запросов к API\n",
        "\n",
        "**Requests** - python-библиотека для отправки всех видов HTTP-запросов."
      ]
    },
    {
      "cell_type": "code",
      "metadata": {
        "id": "3jcY9uikf51Z"
      },
      "source": [
        "#импортируем библиотеки, которые нам пригодятся\n",
        "#!pip install requests\n",
        "#!pip install pandas\n",
        "\n",
        "import requests            #чтобы сделать запросы к API\n",
        "import pandas as pd         #чтобы обработать выдачу, сформировать и выгрузить таблицу"
      ],
      "execution_count": null,
      "outputs": []
    },
    {
      "cell_type": "code",
      "metadata": {
        "id": "-vHeb88KbcO5"
      },
      "source": [
        "#делаем запрос, результат (ответ API) сохраняем в переменную response\n",
        "\n",
        "response = requests.get('https://api.spending.gov.ru/v1/contracts/select/?fz=44&customerregion=78&daterange=01.01.2022-12.02.2022')\n",
        "\n",
        "#результат (ответ API) лучше проверить, особенно при больших выгрузках\n",
        "\n",
        "print(response)\n"
      ],
      "execution_count": null,
      "outputs": []
    },
    {
      "cell_type": "code",
      "metadata": {
        "id": "ZGD_QPmMNuG0"
      },
      "source": [
        "#сохраняем везультат в переменную contracts с помощью метода json\n",
        "\n",
        "contracts = response.json()\n",
        "\n",
        "#смотрим, что получилось\n",
        "\n",
        "len(contracts['contracts']['data'])"
      ],
      "execution_count": null,
      "outputs": []
    },
    {
      "cell_type": "markdown",
      "metadata": {
        "id": "SM8HfY1ZOYnh"
      },
      "source": [
        "##3. Постраничная навигация##\n",
        "\n",
        "**total** - найдено записей всего;\n",
        "\n",
        "**page** - страница в выдаче;\n",
        "\n",
        "**perpage** - количество записей в одном запросе (max - 50).\\\n",
        "\n",
        "Для перемещения по страницам добавляем к запросу параметр **page**.\n",
        "\n",
        "https://api.spending.gov.ru/v1/contracts/select/?fz=44&customerregion=05&daterange=01.01.2020-01.01.2021&page=2 (3, 4, 5, 6...)\n",
        "\n",
        "Сколько страниц нужно пройти, чтобы выгрузить все контракты? \n",
        "**total // 50 + 1**"
      ]
    },
    {
      "cell_type": "code",
      "metadata": {
        "id": "jHFRTA1EU7Fn"
      },
      "source": [
        "#получаем значение total из json-файла contracts\n",
        "\n",
        "total = contracts['contracts']['total']\n",
        "total"
      ],
      "execution_count": null,
      "outputs": []
    },
    {
      "cell_type": "code",
      "metadata": {
        "id": "SO6ueBaTVOMD"
      },
      "source": [
        "#получаем количество страниц в выдаче \n",
        "pages = total // 50 + 1 #два бэкслеша - деление без остатка\n",
        "pages"
      ],
      "execution_count": null,
      "outputs": []
    },
    {
      "cell_type": "code",
      "metadata": {
        "id": "v_ni67HoWuTw"
      },
      "source": [
        "# теперь можно создать цикл, который будет подставлять номер страницы в запрос и пройдет по всем страницам\n",
        "# для этого используем функцию range и форматирование строки\n",
        "\n",
        "for page in range(1, 360):\n",
        "  response = requests.get(f'https://api.spending.gov.ru/v1/contracts/select/?fz=44&customerregion=05&daterange=01.01.2020-01.01.2021&page={page}')\n",
        "  print(page)\n",
        "  print(response)"
      ],
      "execution_count": null,
      "outputs": []
    },
    {
      "cell_type": "markdown",
      "metadata": {
        "id": "oHecwCiyX3jX"
      },
      "source": [
        "##4. Парсинг JSON файла\n",
        "\n",
        "**JSON (JavaScript Object Notation)** – текстовый формат для представления значений и объектов. Первоначально создан для JavaScript, но многие другие языки также имеют библиотеки, которые могут работать с ним. \n",
        "\n",
        "**Хранит структурированную информацию (ключ: значение). Доступен для чтения как программой, так и человеком.**\n",
        "\n",
        "**По сути, JSON-файл - это вложенные в друг друга словари и списки. Словари в python обозначаются фигурными скобками {}, списки - квадратными скобками [ ]**.\n",
        "\n",
        "Для написания корректного кода, необходимо пристально изучить структуру JSON-файла."
      ]
    },
    {
      "cell_type": "code",
      "metadata": {
        "id": "gxLoSxNnYZwW"
      },
      "source": [
        "#одна страница выдачи - это список из 50 контрактов\n",
        "\n",
        "contracts['contracts']['data'][49]\n",
        "\n",
        "#посмотрим на длину этого списка\n",
        "\n",
        "#len(contracts['contracts']['data'])\n",
        "\n",
        "#посмотрим на первый контракт в списке\n",
        "\n",
        "#contracts['contracts']['data'][49]"
      ],
      "execution_count": null,
      "outputs": []
    },
    {
      "cell_type": "code",
      "metadata": {
        "id": "eL5UwlT_afW6"
      },
      "source": [
        "#получение необходимых данных \n",
        "\n",
        "# contracts['contracts']['data'][0]['regNum'] #регистрационный номер контракта\n",
        "# contracts['contracts']['data'][0]['signDate'] #дата подписания контракта\n",
        "# contracts['contracts']['data'][0]['customer'] #данные заказчика\n",
        "contracts['contracts']['data'][0]['customer']['fullName'] #наименование заказчик\n",
        "# contracts['contracts']['data'][0]['customer']['inn'] #ИНН заказчика\n",
        "# contracts['contracts']['data'][0]['customer']['kpp'] #КПП заказчика\n",
        "# contracts['contracts']['data'][0]['customer']['postalAddress'] #адрес заказчика"
      ],
      "execution_count": null,
      "outputs": []
    },
    {
      "cell_type": "code",
      "metadata": {
        "id": "uO33aoUrdvkO"
      },
      "source": [
        "#обработка множественных данных (вложенные списки)\n",
        "\n",
        "#получение сведений о поставщиках\n",
        "\n",
        "contracts['contracts']['data'][0]['suppliers'][0]['organizationName']\n",
        "# contracts['contracts']['data'][0]['suppliers'][0] #данные об одном поставщике\n",
        "# contracts['contracts']['data'][0]['suppliers'][0]['organizationName'] #наименование поставщика\n",
        "# contracts['contracts']['data'][0]['suppliers'][0]['factualAddress'] #адрес поставщика\n",
        "# contracts['contracts']['data'][0]['suppliers'][0]['inn']\n",
        "# contracts['contracts']['data'][0]['suppliers'][0]['kpp']"
      ],
      "execution_count": null,
      "outputs": []
    },
    {
      "cell_type": "code",
      "metadata": {
        "id": "pK_hsmkByCFB"
      },
      "source": [
        "#получение сведений о продуктах\n",
        "for prod in contracts['contracts']['data'][0]['products'][0]:\n",
        "  print(contracts['contracts']['data'][0]['products'][0]['name']) #данные обо всех продуктах в контракте\n",
        "# contracts['contracts']['data'][0]['products'][0] #данные об одном (первом) продукте в контракте\n",
        "# contracts['contracts']['data'][0]['products'][0]['name'] #наименование\n",
        "# contracts['contracts']['data'][0]['products'][0]['sum'] #сумма по продукту\n",
        "# contracts['contracts']['data'][0]['products'][0]['quantity'] #количество\n",
        "# contracts['contracts']['data'][0]['products'][0]['price'] #цена\n",
        "# contracts['contracts']['data'][0]['products'][0]['OKPD2']['code'] #код ОКПД2"
      ],
      "execution_count": null,
      "outputs": []
    },
    {
      "cell_type": "markdown",
      "metadata": {
        "id": "IdoZgx7UzCWz"
      },
      "source": [
        "## Выгрузка данных ## \n",
        "\n",
        "Объединяем все предыдущие шаги в одном коде. Пример выгрузки \"по продуктам\"."
      ]
    },
    {
      "cell_type": "code",
      "metadata": {
        "id": "AH8tv-qM2QzW"
      },
      "source": [
        "contracts_tab = []  #в этот список будем складывать информацию о каждом контракте"
      ],
      "execution_count": null,
      "outputs": []
    },
    {
      "cell_type": "code",
      "metadata": {
        "id": "jUxd0TwGzRHm"
      },
      "source": [
        "for page in range(1, 350):\n",
        "  response = requests.get(f'https://api.spending.gov.ru/v1/contracts/select/?fz=44&customerregion=05&daterange=01.01.2019-01.01.2020&page={page}')\n",
        "  print(page)\n",
        "  print(response)\n",
        "  contracts = response.json()\n",
        "  lst = contracts['contracts']['data']\n",
        "  for cnt in lst:\n",
        "    for prod in cnt['products']:\n",
        "      one_cont = []\n",
        "      one_cont.append(cnt['regNum'])\n",
        "      one_cont.append(cnt['signDate'])\n",
        "      one_cont.append(cnt['price'])\n",
        "      one_cont.append(cnt['customer']['fullName'])\n",
        "      one_cont.append(cnt['customer']['inn'])\n",
        "      one_cont.append(cnt['customer']['kpp'])\n",
        "      suppliers = []\n",
        "      for sup in cnt['suppliers']:\n",
        "        suppliers.append(sup['organizationName'])\n",
        "        try:\n",
        "          suppliers.append(sup['factualAddress'])\n",
        "        except KeyError:\n",
        "          suppliers.append('None')\n",
        "        suppliers.append(sup['inn'])\n",
        "        try:\n",
        "          suppliers.append(sup['kpp'])\n",
        "        except KeyError:\n",
        "          suppliers.append('None')\n",
        "      one_cont.extend(suppliers)\n",
        "      one_cont.append(prod['name'])\n",
        "      try:\n",
        "        one_cont.append(prod['sum'])\n",
        "      except KeyError:\n",
        "        one_cont.append('None')\n",
        "      try:\n",
        "        one_cont.append(prod['quantity'])\n",
        "      except KeyError:\n",
        "        one_cont.append('None')\n",
        "      one_cont.append(prod['price'])\n",
        "      try:\n",
        "        one_cont.append(prod['OKPD2']['code'])\n",
        "      except KeyError:\n",
        "        one_cont.append('None')\n",
        "      contracts_tab.append(one_cont)"
      ],
      "execution_count": null,
      "outputs": []
    },
    {
      "cell_type": "markdown",
      "source": [
        "#этот код выдаст ошибку, так как не найдет ключ - необходима обработка исключений (см. следующую ячейку)"
      ],
      "metadata": {
        "id": "TmOmBeAezZDv"
      }
    },
    {
      "cell_type": "code",
      "metadata": {
        "id": "UQvHvpiC62et"
      },
      "source": [
        "# проверим выгруженные значения в итоговом списке\n",
        "\n",
        "contracts_tab\n"
      ],
      "execution_count": null,
      "outputs": []
    },
    {
      "cell_type": "code",
      "metadata": {
        "id": "teYMqd5LEW3M"
      },
      "source": [
        "# с помощью метода pd.DataFrame преобразуем список в датафрейм (таблицу)\n",
        "\n",
        "frame = pd.DataFrame(contracts_tab)"
      ],
      "execution_count": null,
      "outputs": []
    },
    {
      "cell_type": "code",
      "metadata": {
        "id": "lXBYZV0OTSB4"
      },
      "source": [
        "frame"
      ],
      "execution_count": null,
      "outputs": []
    },
    {
      "cell_type": "code",
      "source": [
        "frame = frame.drop(columns=[15, 16, 17])"
      ],
      "metadata": {
        "id": "AkiCT1mmQQuv"
      },
      "execution_count": null,
      "outputs": []
    },
    {
      "cell_type": "code",
      "metadata": {
        "id": "t1DUrTdTo_nd"
      },
      "source": [
        "#посмотрим, что получилось\n",
        "\n",
        "frame.head(50)"
      ],
      "execution_count": null,
      "outputs": []
    },
    {
      "cell_type": "code",
      "metadata": {
        "id": "2QH6iCuI324n"
      },
      "source": [
        "#зададим названия столбцам\n",
        "\n",
        "frame.rename(columns={0: 'regnum', 1: 'sign_date', 2: 'contract_price', 3: 'customer_name', 4: 'customer_inn', 5: 'customer_kpp',\n",
        "                      6: 'supplier_name', 7: 'supplier_adress', 8: 'supplier_inn', 9: 'supplier_kpp', 10: 'product_name', 11: 'product_sum',\n",
        "                      12: 'product_quantity', 13: 'product_price', 14: 'product_OKPD2'}, inplace=True)"
      ],
      "execution_count": null,
      "outputs": []
    },
    {
      "cell_type": "code",
      "metadata": {
        "id": "OyjkSh3Eqtam"
      },
      "source": [
        "#сохраним выгрузку в таблицу формата csv\n",
        "\n",
        "frame.to_csv('contracts.csv', index=False)"
      ],
      "execution_count": null,
      "outputs": []
    },
    {
      "cell_type": "markdown",
      "metadata": {
        "id": "yWdZT6LwQi0J"
      },
      "source": [
        "##На примере Единого портала бюджетной системы: ##\n",
        "\n",
        "http://budget.gov.ru/epbs/faces/p/%D0%94%D0%B0%D0%BD%D0%BD%D1%8B%D0%B5%20%D0%B8%20%D1%81%D0%B5%D1%80%D0%B2%D0%B8%D1%81%D1%8B/opendata?_adf.ctrl-state=14nlb34tpg_38&regionId=61\n",
        "\n",
        "Набор: \"Информация об основных параметрах реализации региональных проектов\"\n",
        "\n",
        "http://budget.gov.ru/epbs/faces/p/%D0%94%D0%B0%D0%BD%D0%BD%D1%8B%D0%B5%20%D0%B8%20%D1%81%D0%B5%D1%80%D0%B2%D0%B8%D1%81%D1%8B/opendata?code=7710168360-REGIONALPROJECT&_adf.ctrl-state=14nlb34tpg_95&regionId=61"
      ]
    },
    {
      "cell_type": "code",
      "metadata": {
        "id": "WXUGCSKAQh2k"
      },
      "source": [
        "#формируем запрос\n",
        "\n",
        "response = requests.get('http://budget.gov.ru/epbs/registry/7710168360-REGIONALPROJECT/data')\n",
        "projects_data = response.json()"
      ],
      "execution_count": null,
      "outputs": []
    },
    {
      "cell_type": "code",
      "metadata": {
        "id": "xfmzffOCuNZl"
      },
      "source": [
        "#изучаем структуру JSON\n",
        "\n",
        "projects_data['data'][0]"
      ],
      "execution_count": null,
      "outputs": []
    },
    {
      "cell_type": "code",
      "metadata": {
        "id": "QKCx0AsKvrlS"
      },
      "source": [
        "#запускаем цикл для выгрузки данных\n",
        "region_projects = []\n",
        "\n",
        "for proj in projects_data['data']:\n",
        "  proj_data = []\n",
        "  proj_data.append([proj['fpcode'], proj['fpname'], proj['fullname'], proj['startdateproj'], proj['enddateproj'],\n",
        "                   proj['curator'], proj['subject']['code'], proj['subject']['name']])\n",
        "  region_projects.extend(proj_data)\n"
      ],
      "execution_count": null,
      "outputs": []
    },
    {
      "cell_type": "code",
      "metadata": {
        "id": "XyzyBAJixdWz"
      },
      "source": [
        "#посмотрим, что получилось\n",
        "\n",
        "region_projects"
      ],
      "execution_count": null,
      "outputs": []
    },
    {
      "cell_type": "code",
      "metadata": {
        "id": "XZ1frNXJx6Aq"
      },
      "source": [
        "# с помощью метода pd.DataFrame преобразуем список в датафрейм (таблицу)\n",
        "\n",
        "frame = pd.DataFrame(region_projects)\n",
        "frame"
      ],
      "execution_count": null,
      "outputs": []
    }
  ]
}