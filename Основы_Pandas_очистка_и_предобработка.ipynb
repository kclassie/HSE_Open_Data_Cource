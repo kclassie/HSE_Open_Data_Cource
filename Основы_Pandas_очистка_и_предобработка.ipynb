{
  "nbformat": 4,
  "nbformat_minor": 0,
  "metadata": {
    "colab": {
      "provenance": [],
      "include_colab_link": true
    },
    "kernelspec": {
      "name": "python3",
      "display_name": "Python 3"
    }
  },
  "cells": [
    {
      "cell_type": "markdown",
      "metadata": {
        "id": "view-in-github",
        "colab_type": "text"
      },
      "source": [
        "<a href=\"https://colab.research.google.com/github/kclassie/HSE_Open_Data_Cource/blob/main/%D0%9E%D1%81%D0%BD%D0%BE%D0%B2%D1%8B_Pandas_%D0%BE%D1%87%D0%B8%D1%81%D1%82%D0%BA%D0%B0_%D0%B8_%D0%BF%D1%80%D0%B5%D0%B4%D0%BE%D0%B1%D1%80%D0%B0%D0%B1%D0%BE%D1%82%D0%BA%D0%B0.ipynb\" target=\"_parent\"><img src=\"https://colab.research.google.com/assets/colab-badge.svg\" alt=\"Open In Colab\"/></a>"
      ]
    },
    {
      "cell_type": "markdown",
      "metadata": {
        "id": "ZwT5BbnGuA3c"
      },
      "source": [
        "**Pandas** — программная библиотека на языке Python для обработки и анализа данных. Название pandas образовано от термина panel data (панельные данные), применяемого в эконометрике для обозначения многомерных структурированных наборов данных, так и от фразы Python data analysis."
      ]
    },
    {
      "cell_type": "code",
      "metadata": {
        "id": "_ikAiSIauSCN"
      },
      "source": [
        "#установка библиотеки pandas (если еще не)\n",
        "\n",
        "!pip install pandas"
      ],
      "execution_count": null,
      "outputs": []
    },
    {
      "cell_type": "code",
      "metadata": {
        "id": "vCkEOA_UWCnP"
      },
      "source": [
        "import pandas as pd"
      ],
      "execution_count": null,
      "outputs": []
    },
    {
      "cell_type": "markdown",
      "metadata": {
        "id": "FKZpD0lIWe8n"
      },
      "source": [
        "#Основы Pandas\n",
        "**Документация**\n",
        "https://pandas.pydata.org/\n",
        "\n",
        "\n",
        "Библиотека pandas предоставляет две структуры: **Series и DataFrame**\n",
        "\n",
        "**Series** - это маркированная одномерная структура данных, ее можно\n",
        "представить, как таблицу с одной строкой (или столбцом). С Series\n",
        "можно работать как с обычным массивом (обращаться по номеру\n",
        "индекса), и как с ассоциированным массивом, в этом случае можно\n",
        "использовать ключ для доступа к элементам данных. \n",
        "\n",
        "**DataFrame** - это двумерная маркированная структура. Идейно она очень\n",
        "похожа на обычную таблицу, что выражается в способе ее создания и\n",
        "работе с ее элементами. "
      ]
    },
    {
      "cell_type": "markdown",
      "metadata": {
        "id": "ziAsFb8ru2qb"
      },
      "source": [
        "# Series\n",
        "\n",
        "Создать структуру Series можно **на базе следующих типов данных**:\n",
        "- словарь (dict) Python;\n",
        "- список (list) Python;\n",
        "- массив ndarray (из библиотеки numpy);\n",
        "- скалярная величина (величина, которая описывается одним числом - не имеет направления, в отличие от вектора).\n",
        "\n",
        "**Конструктор Series**\n",
        "\n",
        "`Series(data=None, index=None, dtype=None, name=None, copy=False, fastpath=False)`\n",
        "\n",
        "**data:** массив, скалярное значение, dict; значение по умолчанию: None\n",
        "Структура, на базе которой будет построен Series.\n",
        "\n",
        "**index:** одномерный массив; значение по умолчанию: None\n",
        "Список меток, который будет использоваться для доступа к элементам Series. Длина списка должна быть равна длине data.\n",
        "\n",
        "**dtype:** numpy.dtype; значение по умолчанию: None\n",
        "Объект, определяющий тип данных.\n",
        "\n",
        "**name** - имя структуры (может использоваться при добавлении в DataFrame).\n",
        "\n",
        "**copy:** bool; значение по умолчанию: False Если параметр равен True, то будет создана копия массива данных"
      ]
    },
    {
      "cell_type": "code",
      "metadata": {
        "id": "CRIW-HfjWXKP"
      },
      "source": [
        "my_series = pd.Series(['a', 'a', 'a', 'a'])\n",
        "my_series"
      ],
      "execution_count": null,
      "outputs": []
    },
    {
      "cell_type": "code",
      "metadata": {
        "id": "cDLu7fi3W8F-"
      },
      "source": [
        "#доступ к индексам series\n",
        "my_series.index"
      ],
      "execution_count": null,
      "outputs": []
    },
    {
      "cell_type": "code",
      "metadata": {
        "id": "H9z9dlB8XHEO"
      },
      "source": [
        "#доступ к значениям series\n",
        "my_series.values"
      ],
      "execution_count": null,
      "outputs": []
    },
    {
      "cell_type": "code",
      "metadata": {
        "id": "JZap6X2lXSkd"
      },
      "source": [
        "#доступ к элементам\n",
        "my_series[3]"
      ],
      "execution_count": null,
      "outputs": []
    },
    {
      "cell_type": "code",
      "metadata": {
        "id": "0OSvLoXYXbIk"
      },
      "source": [
        "#как задать свои индексы?\n",
        "my_series2 = pd.Series([5, 6, 7, 8, 9, 10], index=['a', 'b', 'c', 'd', 'e', 'f'])\n",
        "my_series2"
      ],
      "execution_count": null,
      "outputs": []
    },
    {
      "cell_type": "code",
      "metadata": {
        "id": "iIUnErwRXfYd"
      },
      "source": [
        "#выборка по нескольким индексам\n",
        "my_series2[['a', 'c', 'd']]"
      ],
      "execution_count": null,
      "outputs": []
    },
    {
      "cell_type": "code",
      "metadata": {
        "id": "hp4bvCIGX9lb"
      },
      "source": [
        "#групповое присваивание\n",
        "my_series2[['a', 'b', 'f']] = 0\n",
        "my_series2"
      ],
      "execution_count": null,
      "outputs": []
    },
    {
      "cell_type": "code",
      "metadata": {
        "id": "0EjG3B3fYNM3"
      },
      "source": [
        "#фильтрация по какому-то признаку\n",
        "my_series2[my_series2 > 1]"
      ],
      "execution_count": null,
      "outputs": []
    },
    {
      "cell_type": "code",
      "metadata": {
        "id": "NUKGESZIYXqa"
      },
      "source": [
        "#математические действия со значениями\n",
        "my_series2[my_series2 > 0] * 2"
      ],
      "execution_count": null,
      "outputs": []
    },
    {
      "cell_type": "code",
      "metadata": {
        "id": "J94aU_fkYlnH"
      },
      "source": [
        "#проверка наличия элемента\n",
        "'d' in my_series2"
      ],
      "execution_count": null,
      "outputs": []
    },
    {
      "cell_type": "code",
      "metadata": {
        "id": "m1bldXI4ZGMM"
      },
      "source": [
        "#атрибут name, задает имя объекту и индексу\n",
        "my_series2.name = 'numbers'\n",
        "my_series2.index.name = 'letters'\n",
        "my_series2"
      ],
      "execution_count": null,
      "outputs": []
    },
    {
      "cell_type": "markdown",
      "metadata": {
        "id": "RwAjOgTFZeSu"
      },
      "source": [
        "**Data Frame** - таблица, состоящая из series.\n",
        "\n",
        "# DataFrame\n",
        "\n",
        "**DataFrame** - это двумерная структура - полноценная таблица с множеством строк\n",
        "и столбцов.\n",
        "\n",
        "**Конструктор класса DataFrame выглядит так:**\n",
        "\n",
        "`DataFrame(data=None, index=None, columns=None, dtype=None, copy=False)`\n",
        "\n",
        "**data:** ndarray, dict или DataFrame; значение по умолчанию: None\n",
        "Данные, на базе которых будет создан DataFrame.\n",
        "\n",
        "**index:** одномерный массив; значение по умолчанию: None\n",
        "Список меток для записей (имена строк таблицы).\n",
        "\n",
        "**columns:** одномерный массив; значение по умолчанию: None\n",
        "Список меток для полей (имена столбцов таблицы).\n",
        "\n",
        "**dtype:** numpy.dtype; значение по умолчанию: None\n",
        "Объект, определяющий тип данных.\n",
        "\n",
        "**copy:** bool; значение по умолчанию: False\n",
        "Если параметр равен True, то будет создана копия массива данных\n",
        "\n",
        "Структуру DataFrame можно создать на базе следующих типов данных:\n",
        "- словарь (dict), в качестве элементов которого могут выступать:\n",
        "одномерные ndarray, списки, другие словари, структуры Series;\n",
        "- двумерный ndarray;\n",
        "- структура Series;\n",
        "- другой DataFrame."
      ]
    },
    {
      "cell_type": "code",
      "metadata": {
        "id": "BuOyDtsTZMSc"
      },
      "source": [
        "df = pd.DataFrame({\n",
        "    'sity': ['Moscow', 'SPb', 'Ekaterinburg', 'Sochi'],\n",
        "    'population': [12.7, 5.4, 1.53, 0.444],\n",
        "    'square': [2561.5, 1439.0, 468.0, 176.8]\n",
        "    })\n",
        "df"
      ],
      "execution_count": null,
      "outputs": []
    },
    {
      "cell_type": "code",
      "metadata": {
        "id": "WF81niH0Z-Zf"
      },
      "source": [
        "df['population']"
      ],
      "execution_count": null,
      "outputs": []
    },
    {
      "cell_type": "code",
      "metadata": {
        "id": "oO4VYuS8aHXc"
      },
      "source": [
        "columns = df.columns\n",
        "columns"
      ],
      "execution_count": null,
      "outputs": []
    },
    {
      "cell_type": "code",
      "metadata": {
        "id": "i-eynX8QaI5b"
      },
      "source": [
        "df.index"
      ],
      "execution_count": null,
      "outputs": []
    },
    {
      "cell_type": "markdown",
      "metadata": {
        "id": "GJZGQ-npWQPc"
      },
      "source": [
        "#Теперь попробуем на примере"
      ]
    },
    {
      "cell_type": "code",
      "metadata": {
        "id": "05IubO1VgMuI"
      },
      "source": [
        "#загрузим файл с данными о контрактах, который мы выгрузили на прошлом занятии\n",
        "\n",
        "df = pd.read_csv('/content/drive/MyDrive/ВШЭ_бакалавры_2022/contracts.csv') \n",
        "\n",
        "#если нужно открыть файл с другим разделителем\n",
        "#df = pd.read_csv('filename.csv', delimiter=\";\")."
      ],
      "execution_count": null,
      "outputs": []
    },
    {
      "cell_type": "code",
      "source": [
        "from google.colab import drive\n",
        "drive.mount('/content/drive')"
      ],
      "metadata": {
        "id": "3J4hJ8Ck4qnD"
      },
      "execution_count": null,
      "outputs": []
    },
    {
      "cell_type": "code",
      "metadata": {
        "id": "Z-pHtiiimS3A"
      },
      "source": [
        "#Мы получили DataFrame из нашей таблицы.\n",
        "#Оценим его размер\n",
        "\n",
        "df.shape"
      ],
      "execution_count": null,
      "outputs": []
    },
    {
      "cell_type": "code",
      "metadata": {
        "id": "IC5v8kabkqly"
      },
      "source": [
        "#Теперь посмотрим, как он выглядит, чтобы понять, что в нем надо почистить\n",
        "#первые 10 строк\n",
        "df.head(20)"
      ],
      "execution_count": null,
      "outputs": []
    },
    {
      "cell_type": "code",
      "metadata": {
        "id": "mCrzpKY8lFKR"
      },
      "source": [
        "#последние 10 строк\n",
        "df.tail(20)"
      ],
      "execution_count": null,
      "outputs": []
    },
    {
      "cell_type": "code",
      "metadata": {
        "id": "t7Bea6hqkgUM"
      },
      "source": [
        "#случайные 10 строк\n",
        "df.sample(10)"
      ],
      "execution_count": null,
      "outputs": []
    },
    {
      "cell_type": "code",
      "metadata": {
        "id": "O7c4QhLdlVmQ"
      },
      "source": [
        "#посмотрим на типы данных в нашей таблице.\n",
        "#какие типы данных в питоне вы помните?\n",
        "\n",
        "df.dtypes"
      ],
      "execution_count": null,
      "outputs": []
    },
    {
      "cell_type": "code",
      "metadata": {
        "id": "MFIhfeVdmNrQ"
      },
      "source": [
        "#Pandas может показать нам сводную описательную статистику наших данных, включая медианное, среднее значение для каждого столбца.\n",
        "\n",
        "df.describe()"
      ],
      "execution_count": null,
      "outputs": []
    },
    {
      "cell_type": "markdown",
      "metadata": {
        "id": "INUV-DOLxhMh"
      },
      "source": [
        "#Параметры df.describe ()\n",
        "\n",
        "**count**: количество значений в этом столбце\n",
        "\n",
        "**unique**: количество уникальных значений в этом столбце\n",
        "\n",
        "**top**: первое значение в этом столбце\n",
        "\n",
        "**freq**: частота наиболее частого значения\n",
        "\n",
        "**mean**: среднее\n",
        "\n",
        "**std**: стандартное отклонение\n",
        "\n",
        "**min**: минимальное значение, наименьшее значение в столбце\n",
        "\n",
        "**25%**: первый процентиль\n",
        "\n",
        "**50%**: второй процентиль, это то же самое, что и медиана\n",
        "\n",
        "**75%**: третий процентиль\n",
        "\n",
        "**max**: максимальное значение в столбце\n",
        "\n",
        "Если столбец не содержит числового значения, возвращаются только те параметры, которые применимы. В этом случае Python дает NaN-значения."
      ]
    },
    {
      "cell_type": "code",
      "metadata": {
        "id": "TR9MgHdinS0n"
      },
      "source": [
        "#данные нужно почистить. Давайте начнем с даты. Уберем оттуда ненужное"
      ],
      "execution_count": null,
      "outputs": []
    },
    {
      "cell_type": "code",
      "metadata": {
        "id": "pq7-rfSpA0uQ"
      },
      "source": [
        "df.tail(5)"
      ],
      "execution_count": null,
      "outputs": []
    },
    {
      "cell_type": "code",
      "metadata": {
        "id": "xz9N8ROznqsA"
      },
      "source": [
        "#создадим новую колонку, куда поместим \"чистую\" дату\n",
        "df['sign_dateClean'] = df['sign_date'].str.replace('T00:00:00', '')"
      ],
      "execution_count": null,
      "outputs": []
    },
    {
      "cell_type": "code",
      "metadata": {
        "id": "ks82tPYdn5RH"
      },
      "source": [
        "#посмотрим, что получилось\n",
        "df.head(20)"
      ],
      "execution_count": null,
      "outputs": []
    },
    {
      "cell_type": "code",
      "metadata": {
        "id": "FDsm6k2eoQct"
      },
      "source": [
        "#Теперь уберем лишние символы в столбцах с текстом\n",
        "\n",
        "df['suppliers_names'] = df['suppliers_names'].str.replace(\"[\", '')\n",
        "df['suppliers_names'] = df['suppliers_names'].str.replace(\"]\", '')\n"
      ],
      "execution_count": null,
      "outputs": []
    },
    {
      "cell_type": "code",
      "metadata": {
        "id": "lAKFw3p6p0RY"
      },
      "source": [
        "#то же самое делаем с продуктами\n",
        "\n",
        "df['products'] = df['products'].str.replace(\"]\", '')\n",
        "df['products'] = df['products'].str.replace(\"[\", '')"
      ],
      "execution_count": null,
      "outputs": []
    },
    {
      "cell_type": "code",
      "metadata": {
        "id": "dGB3Vzr1zfQb"
      },
      "source": [
        "df['suppliers_names'][900]"
      ],
      "execution_count": null,
      "outputs": []
    },
    {
      "cell_type": "code",
      "source": [
        "df['suppliers_names'] = df['suppliers_names'].str.replace(\"\\'\", '')\n",
        "df['suppliers_names'] = df['suppliers_names'].str.replace(\"\\'\", '')"
      ],
      "metadata": {
        "id": "l35TS3r--WD9"
      },
      "execution_count": null,
      "outputs": []
    },
    {
      "cell_type": "code",
      "source": [
        "df['products'][1000]"
      ],
      "metadata": {
        "id": "vzTwPrKb-PIp"
      },
      "execution_count": null,
      "outputs": []
    },
    {
      "cell_type": "code",
      "metadata": {
        "id": "zu535mwZ4gID"
      },
      "source": [
        "df.head()"
      ],
      "execution_count": null,
      "outputs": []
    },
    {
      "cell_type": "code",
      "metadata": {
        "id": "a8mgoMqpwTeg"
      },
      "source": [
        "#разделим столбцы с поставщиками\n",
        "\n",
        "new_supp = df['suppliers_names'].str.split('\", ', expand=True)"
      ],
      "execution_count": null,
      "outputs": []
    },
    {
      "cell_type": "code",
      "metadata": {
        "id": "TdiZm8U2L2ri"
      },
      "source": [
        "new_supp.head(50)"
      ],
      "execution_count": null,
      "outputs": []
    },
    {
      "cell_type": "code",
      "metadata": {
        "id": "Kke5trAJynBz"
      },
      "source": [
        "#посмотрим на размер таблицы\n",
        "\n",
        "new_supp.shape"
      ],
      "execution_count": null,
      "outputs": []
    },
    {
      "cell_type": "code",
      "metadata": {
        "id": "89EtfYUoyt_o"
      },
      "source": [
        "#переименуем колонки\n",
        "new_supp.columns=['supplier1','supplier2','supplier3']\n",
        "\n",
        "new_supp"
      ],
      "execution_count": null,
      "outputs": []
    },
    {
      "cell_type": "code",
      "metadata": {
        "id": "XRioTdZGxuiM"
      },
      "source": [
        "#объединим исходный датафрейм новый\n",
        "#в Pandas строки имеют ось (asix) = 0, столбцы имеют ось (asix) = 1. При использовании некоторых функций нужно указывать этот параметр\n",
        "\n",
        "df = pd.concat([df, new_supp], axis=1)"
      ],
      "execution_count": null,
      "outputs": []
    },
    {
      "cell_type": "code",
      "metadata": {
        "id": "M9iqE3MhpWRs"
      },
      "source": [
        "df.head()"
      ],
      "execution_count": null,
      "outputs": []
    },
    {
      "cell_type": "code",
      "metadata": {
        "id": "aOtbJAtpqe6u"
      },
      "source": [
        "#удалим лишнюю колонку, и переименуем колонку\n",
        "\n",
        "df = df.drop('sign_date', 1)"
      ],
      "execution_count": null,
      "outputs": []
    },
    {
      "cell_type": "code",
      "metadata": {
        "id": "fhnFgOjKqe_D"
      },
      "source": [
        "df = df.rename(columns={'sign_dateClean': 'sign_date'})"
      ],
      "execution_count": null,
      "outputs": []
    },
    {
      "cell_type": "code",
      "metadata": {
        "id": "MYR_OYIIp45O"
      },
      "source": [
        "df.head()"
      ],
      "execution_count": null,
      "outputs": []
    },
    {
      "cell_type": "code",
      "metadata": {
        "id": "kEqdeeIXqfEW"
      },
      "source": [
        "#посмотрим уникальные значения в столбце с заказчиками\n",
        "\n",
        "df['supplier2'].unique()"
      ],
      "execution_count": null,
      "outputs": []
    },
    {
      "cell_type": "code",
      "metadata": {
        "id": "PLtz-meZqfKW"
      },
      "source": [
        "#на всякий случай удалим лишние проблеы справа и слева\n",
        "df['customer_name'] = df['customer_name'].map(str.strip) #rstrip #lstrip"
      ],
      "execution_count": null,
      "outputs": []
    },
    {
      "cell_type": "code",
      "metadata": {
        "id": "gNJOTdTtqfHw"
      },
      "source": [
        "#исправим дату\n",
        "import datetime"
      ],
      "execution_count": null,
      "outputs": []
    },
    {
      "cell_type": "code",
      "metadata": {
        "id": "scm5ZnUItjQC"
      },
      "source": [
        "df['sign_date'] = pd.to_datetime(df['sign_date'], format=\"%Y-%m-%d\")"
      ],
      "execution_count": null,
      "outputs": []
    },
    {
      "cell_type": "code",
      "metadata": {
        "id": "RoDCYwWguQcD"
      },
      "source": [
        "df.head()"
      ],
      "execution_count": null,
      "outputs": []
    },
    {
      "cell_type": "code",
      "metadata": {
        "id": "nE2cy8AouWHw"
      },
      "source": [
        "df['sign_date']"
      ],
      "execution_count": null,
      "outputs": []
    },
    {
      "cell_type": "code",
      "metadata": {
        "id": "qCZpt4unukPH"
      },
      "source": [
        "#создадим отдельную колонку с годом\n",
        "df['year'] = pd.DatetimeIndex(df['sign_date']).year"
      ],
      "execution_count": null,
      "outputs": []
    },
    {
      "cell_type": "code",
      "metadata": {
        "id": "ptZfPbrku1SH"
      },
      "source": [
        "#создадим отдельную колонку с месяцем\n",
        "df['month'] = pd.DatetimeIndex(df['sign_date']).month"
      ],
      "execution_count": null,
      "outputs": []
    },
    {
      "cell_type": "code",
      "metadata": {
        "id": "MxSeNYkLu77u"
      },
      "source": [
        "#создадим отдельную колонку с датой\n",
        "df['day'] = pd.DatetimeIndex(df['sign_date']).day"
      ],
      "execution_count": null,
      "outputs": []
    },
    {
      "cell_type": "code",
      "metadata": {
        "id": "ZB1ryEQ1uugn"
      },
      "source": [
        "df.head()"
      ],
      "execution_count": null,
      "outputs": []
    },
    {
      "cell_type": "code",
      "metadata": {
        "id": "P8lLc6GW4M14"
      },
      "source": [
        "#формат даты timestamp \"временная метка\"\n",
        "#timestamp - POSIX-время, количество секунд прошедшее с 00:00:00 UTC 1 января 1970 года.\n",
        "\n",
        "import datetime\n",
        "from datetime import date\n",
        "\n",
        "timestamp = \"1322485986\"\n",
        "\n",
        "d1 = date.fromtimestamp(float(timestamp))\n",
        "print(d1)\n",
        "print(type(d1))"
      ],
      "execution_count": null,
      "outputs": []
    },
    {
      "cell_type": "code",
      "metadata": {
        "id": "y46goORlqHg2"
      },
      "source": [
        "#Еще несколько полезностей\n",
        "\n",
        "#преобразовать строки в числа\n",
        "df['column-name'] = pd.to_numeric(df['column_name'])\n",
        "\n",
        "#оставить только те колонки, которые вам нужны (если их очень много и вы используете не все)\n",
        "\n",
        "dfMini = df[['column1', 'column3', 'column5', 'column10']]"
      ],
      "execution_count": null,
      "outputs": []
    },
    {
      "cell_type": "markdown",
      "source": [
        "**ДЗ №3**\n",
        "\n",
        "Используя блокнот этой лекции очистите от лишнего данные в таблицах, полученных при выполнении ДЗ №1 и ДЗ №2.\n",
        "\n",
        "Формат сдачи ДЗ: файл с кодом (ipynb, py) и 2 очищенные таблицы в формате csv."
      ],
      "metadata": {
        "id": "8md1Mh64ZKvv"
      }
    }
  ]
}