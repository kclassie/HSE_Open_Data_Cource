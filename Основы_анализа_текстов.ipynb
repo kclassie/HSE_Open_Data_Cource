{
  "nbformat": 4,
  "nbformat_minor": 0,
  "metadata": {
    "colab": {
      "provenance": [],
      "include_colab_link": true
    },
    "kernelspec": {
      "name": "python3",
      "display_name": "Python 3"
    }
  },
  "cells": [
    {
      "cell_type": "markdown",
      "metadata": {
        "id": "view-in-github",
        "colab_type": "text"
      },
      "source": [
        "<a href=\"https://colab.research.google.com/github/kclassie/HSE_Open_Data_Cource/blob/main/%D0%9E%D1%81%D0%BD%D0%BE%D0%B2%D1%8B_%D0%B0%D0%BD%D0%B0%D0%BB%D0%B8%D0%B7%D0%B0_%D1%82%D0%B5%D0%BA%D1%81%D1%82%D0%BE%D0%B2.ipynb\" target=\"_parent\"><img src=\"https://colab.research.google.com/assets/colab-badge.svg\" alt=\"Open In Colab\"/></a>"
      ]
    },
    {
      "cell_type": "markdown",
      "metadata": {
        "id": "CnKhIolZbJSa"
      },
      "source": [
        "#Блокнот для лекции по основам анализа текстовых данных\n",
        "\n",
        "## **Задача:** освоить базовые приемы компьютерной лингвистики для анализа текстов, познакомиться с python-библиотеками pymorphy2, nltk и модулем для работы с регулярными выражениями re.\n",
        "\n",
        "На примере текстов посланий президента РФ Федеральному собранию 2015, 2016, 2018, 2019, 2020, 2021 гг. \n",
        "\n",
        "\n",
        "**Источник**: http://kremlin.ru/events/president/transcripts/messages\n",
        "\n",
        "\n",
        "##pymorphy2 \n",
        "библиотека для морфологического анализа слов на русском языке\n",
        "\n",
        "Документация: https://pymorphy2.readthedocs.io/en/stable/\n",
        "\n",
        "##NLTK (Natural Language Toolkit)\n",
        "пакет библиотек и программ для символьной и статистической обработки естественного языка\n",
        "\n",
        "Документация: https://www.nltk.org/\n",
        "\n"
      ]
    },
    {
      "cell_type": "code",
      "metadata": {
        "id": "wDnSH8IeU1_W"
      },
      "source": [
        "#установка библиотек (если они не установлены)\n",
        "\n",
        "!pip install pymorphy2  #библиотека для морфологического анализа слов\n",
        "!pip install nltk       #пакет библиотек и программ для символьной и статистической обработки естественного языка"
      ],
      "execution_count": null,
      "outputs": []
    },
    {
      "cell_type": "code",
      "metadata": {
        "id": "Zlxh9Oq1bIc-"
      },
      "source": [
        "#устанавливаем и импортируем инеобходимые библиотеки и модули\n",
        "          \n",
        "import nltk\n",
        "import pymorphy2 as pm\n",
        "import pandas as pd                       \n",
        "from nltk import word_tokenize    #для токенизации слов\n",
        "from nltk.corpus import stopwords #стоп-слова, которые мы не будем использовать в выборке\n",
        "nltk.download('stopwords')\n",
        "nltk.download('punkt')\n",
        "\n",
        "\n",
        "from collections import Counter\n",
        "import re\n",
        "\n",
        "'''\n",
        "re - это стандартный питоновский модуль для работы с регулярными выражениями.\n",
        "если вы не знаете, что такое регулярные выражения, очень рекомендую изучить эту тему. \n",
        "На Data Camp есть очень понятный и хороший курс, который займет всего несколько часов, \n",
        "но даст достаточное представление о регулярных выражениях. \n",
        "\n",
        "А используются они в анализе данных (и во многом другом) оооооочень часто.'''"
      ],
      "execution_count": null,
      "outputs": []
    },
    {
      "cell_type": "code",
      "metadata": {
        "id": "23R8Iq7wc1QK",
        "colab": {
          "base_uri": "https://localhost:8080/"
        },
        "outputId": "960de2c6-81d5-4e04-f4b9-834e5b05caa0"
      },
      "source": [
        "#тексты всех посланий я сохранила на гугл-диске в формате txt\n",
        "#загрузим их и объединяем тексты из файлов в один список, где каждый элемент списка - это длиииинная строка, содержащая текст одного послания\n",
        "\n",
        "poslaniya = []\n",
        "years = [\"2021\", \"2020\", \"2019\", \"2018\", \"2016\", \"2015\"]\n",
        "for y in years:\n",
        "  poslaniya.append(open(f'/content/drive/MyDrive/Датасеты разные/poslanie_{y}.txt').read())\n",
        "\n",
        "print(len(poslaniya)) #посмотрим длину списка - сколько текстов загрузилось?"
      ],
      "execution_count": null,
      "outputs": [
        {
          "output_type": "stream",
          "name": "stdout",
          "text": [
            "6\n"
          ]
        }
      ]
    },
    {
      "cell_type": "code",
      "source": [
        "poslaniya[0]"
      ],
      "metadata": {
        "id": "AfPdPlCT-f0M"
      },
      "execution_count": null,
      "outputs": []
    },
    {
      "cell_type": "markdown",
      "metadata": {
        "id": "h5AKcEi6Xchf"
      },
      "source": [
        "#Здесь нужно сказать о нескольких понятиях из компьютерной лингвистики\n",
        "\n",
        "##Базовые термины - они же этапы обработки текста. Детали всегда определяет аналитик/исследователь, в зависимости от цели анализа и особенностей теста (!)\n",
        "\n",
        "1. **Корпус** - в компьютерной лингвистике это подобранная и обработанная по определенным правилам совокупность текстов, используемых в качестве базы для исследования. Для нас это **набор данных из текстов**.\n",
        "\n",
        "**Примеры**:\n",
        "- корпус комментариев из соцсети;\n",
        "- корпус новостей определенного СМИ;\n",
        "- корпус статей в СМИ об определенной персоне за определенный период;\\\n",
        "- и т.д.\n",
        "\n",
        "2. **Токенизация** - разбиение текста на слова или определение границ слова. (**Токен** - это одно слово в той форме, в котрой оно представлено в тексте).\n",
        "\n",
        "3. **Лемматизация** - приведение слова к начальной форме (**Лемма** - токен, приведенный к начальной форме. Например: маме - мама, жил - жить, студенты - студент и т.д.)\n",
        "\n",
        "4. **Шумовые слова (или стоп-слова)** — такие слова, знаки, символы, которые самостоятельно не несут никакой смысловой нагрузки (предлоги, суффиксы, причастия, междометия, цифры, частицы и т. п.)\n"
      ]
    },
    {
      "cell_type": "code",
      "metadata": {
        "colab": {
          "base_uri": "https://localhost:8080/"
        },
        "id": "lRHrRnVeb9Uz",
        "outputId": "7139f8fc-4d7e-4840-a668-ef1d84bd9433"
      },
      "source": [
        "#помотрим, какие стоп-слова для русского языка есть в NLTK\n",
        "\n",
        "print(len(stopwords.words('russian')))\n",
        "stopwords.words('russian').append('быть')\n",
        "print(stopwords.words('russian'))"
      ],
      "execution_count": null,
      "outputs": [
        {
          "output_type": "stream",
          "name": "stdout",
          "text": [
            "151\n",
            "['и', 'в', 'во', 'не', 'что', 'он', 'на', 'я', 'с', 'со', 'как', 'а', 'то', 'все', 'она', 'так', 'его', 'но', 'да', 'ты', 'к', 'у', 'же', 'вы', 'за', 'бы', 'по', 'только', 'ее', 'мне', 'было', 'вот', 'от', 'меня', 'еще', 'нет', 'о', 'из', 'ему', 'теперь', 'когда', 'даже', 'ну', 'вдруг', 'ли', 'если', 'уже', 'или', 'ни', 'быть', 'был', 'него', 'до', 'вас', 'нибудь', 'опять', 'уж', 'вам', 'ведь', 'там', 'потом', 'себя', 'ничего', 'ей', 'может', 'они', 'тут', 'где', 'есть', 'надо', 'ней', 'для', 'мы', 'тебя', 'их', 'чем', 'была', 'сам', 'чтоб', 'без', 'будто', 'чего', 'раз', 'тоже', 'себе', 'под', 'будет', 'ж', 'тогда', 'кто', 'этот', 'того', 'потому', 'этого', 'какой', 'совсем', 'ним', 'здесь', 'этом', 'один', 'почти', 'мой', 'тем', 'чтобы', 'нее', 'сейчас', 'были', 'куда', 'зачем', 'всех', 'никогда', 'можно', 'при', 'наконец', 'два', 'об', 'другой', 'хоть', 'после', 'над', 'больше', 'тот', 'через', 'эти', 'нас', 'про', 'всего', 'них', 'какая', 'много', 'разве', 'три', 'эту', 'моя', 'впрочем', 'хорошо', 'свою', 'этой', 'перед', 'иногда', 'лучше', 'чуть', 'том', 'нельзя', 'такой', 'им', 'более', 'всегда', 'конечно', 'всю', 'между']\n"
          ]
        }
      ]
    },
    {
      "cell_type": "code",
      "metadata": {
        "id": "hOjuxOUnxnFh",
        "colab": {
          "base_uri": "https://localhost:8080/"
        },
        "outputId": "46aa248e-aa64-4faf-ad98-4260d5e5bb60"
      },
      "source": [
        "#токенизируем наши тексты и посмотрим на количество слов в каждом из текстов.\n",
        "\n",
        "for i in poslaniya:\n",
        "  i=re.split(r'\\W+', i) #здесь для разделения применяем регулярное выражение. Разбиение по не-букве, не-цифре и не-подчеркиванию\n",
        "  print(f'Количество слов = {len(i)}')\n",
        "\n",
        "# Хм, президент был наиболее словоохотливым в 2018 году ;)"
      ],
      "execution_count": null,
      "outputs": [
        {
          "output_type": "stream",
          "name": "stdout",
          "text": [
            "Количество слов = 7942\n",
            "Количество слов = 7567\n",
            "Количество слов = 9869\n",
            "Количество слов = 11496\n",
            "Количество слов = 7390\n",
            "Количество слов = 6141\n"
          ]
        }
      ]
    },
    {
      "cell_type": "code",
      "metadata": {
        "id": "YhpAmAPfhbZE",
        "colab": {
          "base_uri": "https://localhost:8080/"
        },
        "outputId": "3733fb90-29bc-4341-de47-aa080c64ebb7"
      },
      "source": [
        "# Считаем частотность - сколько раз в каждом из текстов встречается каждая уникальная лемма. Иначе говоря, считаем размер \"словарного запаса\" каждого текста.\n",
        "\n",
        "# Сначала уберем из текстов все цифры, всякие там знаки препинания, потом исключим стоп-слова и, на всякий случай, еще и служебные части речи.\n",
        "# Лемматизируем - приводим оставшиеся слова в начальную форму. И формируем для каждого из текстов словарь, где ключ - слово, а значение - количестве его повторов в тексте.\n",
        "# Это все происходит достаточно долго 8(( Внизу печатается число лемм для каждого из текстов\n",
        "\n",
        "a = pm.MorphAnalyzer()\n",
        "word_frequency = [] #здесь будет список из 5 словарей {лем}\n",
        "putin_verbs = {}\n",
        "for text in poslaniya:\n",
        "  text = re.sub(r\"\\d+\", \"\", text) #здесь опять регулярные выражения. Так мы уберем из текстов все цифры - они же слова.\n",
        "  text = re.split(r'\\W+', text) #это регулярное выражение вам уже знакомо\n",
        "  vocab = {}\n",
        "  for i in text:\n",
        "    m = a.parse(i)[0]  #здесь подключаем к работе pymorthy, чтобы определить часть речи каждого слова\n",
        "    if m not in stopwords.words('russian'): #исключаем стоп-слова\n",
        "      if m.tag.POS=='INFN' or m.tag.POS=='VERB': #отдельно обрабатываем глаголы (если хотим существительные - тэг 'NOUN', если прилагательные - 'ADJF' or 'ADJS' - и т.д.)\n",
        "        m=m.normal_form\n",
        "        if m not in putin_verbs: #добавляем в отдельный словарь - один на все пять текстов\n",
        "          putin_verbs[m] = 1\n",
        "        else:        \n",
        "          putin_verbs[m] += 1\n",
        "      elif m.tag.POS not in ['PREP', 'CONJ', 'PRCL', 'INTJ', 'NPRO']: #исключаем разные служебные части речи (указываем тэги ненужных, подробнее: https://pymorphy2.readthedocs.io/en/stable/user/grammemes.html  )\n",
        "        m=m.normal_form #приводим слово в начальную форму\n",
        "        if m not in vocab: \n",
        "          vocab[m] = 1  #добавляем слово в словарь для каждого текста\n",
        "        else:        \n",
        "          vocab[m] += 1 #если слово уже есть в тексте, увеличиваем счетчик (значение по ключу m) на единицу\n",
        "  print(len(vocab))\n",
        "  word_frequency.append(vocab)\n"
      ],
      "execution_count": null,
      "outputs": [
        {
          "output_type": "stream",
          "name": "stdout",
          "text": [
            "1601\n",
            "1386\n",
            "1784\n",
            "1876\n",
            "1498\n",
            "1405\n"
          ]
        }
      ]
    },
    {
      "cell_type": "code",
      "metadata": {
        "id": "zqdrLz-zQr19"
      },
      "source": [
        "print(word_frequency[0])"
      ],
      "execution_count": null,
      "outputs": []
    },
    {
      "cell_type": "code",
      "metadata": {
        "id": "el9y3wmP2Qsd"
      },
      "source": [
        "# отсортируем слова каждого из текстов по числу повторений\n",
        "sorted_by_value = []\n",
        "for i in word_frequency:\n",
        "  sort = sorted(i.items(), key=lambda kv: kv[1])\n",
        "  sorted_by_value.append(sort)"
      ],
      "execution_count": null,
      "outputs": []
    },
    {
      "cell_type": "code",
      "metadata": {
        "id": "l_DCA4HMwxmP",
        "colab": {
          "base_uri": "https://localhost:8080/"
        },
        "outputId": "9245e7ec-5155-4736-cae9-f8f012a39f1e"
      },
      "source": [
        "#выведем ТОП-20 \n",
        "for i in sorted_by_value:\n",
        "  print(f'Текст № {sorted_by_value.index(i)+1}, 20 самых частых слов:')\n",
        "  print('\\n'.join(map(str, i[-20:])))\n",
        "  print('\\n')"
      ],
      "execution_count": null,
      "outputs": [
        {
          "output_type": "stream",
          "name": "stdout",
          "text": [
            "Текст № 1, 20 самых частых слов:\n",
            "('здесь', 25)\n",
            "('проект', 25)\n",
            "('ребёнок', 27)\n",
            "('другой', 28)\n",
            "('регион', 30)\n",
            "('человек', 30)\n",
            "('нужно', 32)\n",
            "('развитие', 34)\n",
            "('страна', 37)\n",
            "('новый', 37)\n",
            "('который', 41)\n",
            "('наш', 43)\n",
            "('весь', 43)\n",
            "('уже', 46)\n",
            "('должный', 46)\n",
            "('такой', 49)\n",
            "('тот', 50)\n",
            "('россия', 51)\n",
            "('этот', 53)\n",
            "('год', 68)\n",
            "\n",
            "\n",
            "Текст № 2, 20 самых частых слов:\n",
            "('развитие', 23)\n",
            "('федеральный', 24)\n",
            "('нужно', 24)\n",
            "('регион', 29)\n",
            "('гражданин', 31)\n",
            "('свой', 31)\n",
            "('такой', 35)\n",
            "('уже', 35)\n",
            "('семья', 37)\n",
            "('тот', 40)\n",
            "('человек', 43)\n",
            "('ребёнок', 43)\n",
            "('этот', 43)\n",
            "('который', 44)\n",
            "('наш', 47)\n",
            "('россия', 50)\n",
            "('страна', 50)\n",
            "('весь', 50)\n",
            "('должный', 58)\n",
            "('год', 66)\n",
            "\n",
            "\n",
            "Текст № 3, 20 самых частых слов:\n",
            "('новый', 26)\n",
            "('более', 26)\n",
            "('ещё', 29)\n",
            "('свой', 34)\n",
            "('только', 35)\n",
            "('страна', 36)\n",
            "('работа', 37)\n",
            "('семья', 38)\n",
            "('тот', 45)\n",
            "('россия', 48)\n",
            "('нужно', 49)\n",
            "('уже', 50)\n",
            "('весь', 51)\n",
            "('такой', 53)\n",
            "('наш', 55)\n",
            "('который', 56)\n",
            "('человек', 56)\n",
            "('должный', 67)\n",
            "('этот', 83)\n",
            "('год', 95)\n",
            "\n",
            "\n",
            "Текст № 4, 20 самых частых слов:\n",
            "('один', 34)\n",
            "('современный', 35)\n",
            "('оружие', 35)\n",
            "('уже', 41)\n",
            "('свой', 43)\n",
            "('развитие', 47)\n",
            "('человек', 52)\n",
            "('тот', 53)\n",
            "('страна', 55)\n",
            "('система', 56)\n",
            "('такой', 58)\n",
            "('нужно', 69)\n",
            "('весь', 70)\n",
            "('новый', 71)\n",
            "('который', 73)\n",
            "('должный', 74)\n",
            "('этот', 75)\n",
            "('россия', 85)\n",
            "('наш', 91)\n",
            "('год', 97)\n",
            "\n",
            "\n",
            "Текст № 5, 20 самых частых слов:\n",
            "('система', 19)\n",
            "('работа', 19)\n",
            "('только', 20)\n",
            "('тот', 21)\n",
            "('экономика', 23)\n",
            "('рост', 23)\n",
            "('должный', 25)\n",
            "('человек', 28)\n",
            "('свой', 30)\n",
            "('такой', 30)\n",
            "('страна', 31)\n",
            "('уже', 31)\n",
            "('нужно', 33)\n",
            "('развитие', 35)\n",
            "('этот', 40)\n",
            "('весь', 40)\n",
            "('россия', 42)\n",
            "('который', 43)\n",
            "('наш', 44)\n",
            "('год', 80)\n",
            "\n",
            "\n",
            "Текст № 6, 20 самых частых слов:\n",
            "('решение', 17)\n",
            "('число', 17)\n",
            "('российский', 18)\n",
            "('ещё', 18)\n",
            "('правительство', 18)\n",
            "('развитие', 20)\n",
            "('уже', 22)\n",
            "('страна', 22)\n",
            "('человек', 26)\n",
            "('весь', 27)\n",
            "('нужно', 27)\n",
            "('свой', 28)\n",
            "('такой', 31)\n",
            "('россия', 34)\n",
            "('наш', 35)\n",
            "('этот', 37)\n",
            "('тот', 39)\n",
            "('должный', 44)\n",
            "('который', 49)\n",
            "('год', 50)\n",
            "\n",
            "\n"
          ]
        }
      ]
    },
    {
      "cell_type": "code",
      "metadata": {
        "id": "DCOJtnPDocix"
      },
      "source": [
        "#соберем все это в табличку\n",
        "\n",
        "table = pd.DataFrame(sorted_by_value)\n",
        "table = table.T   #свойство для транспонирования DataFrame по диагонали, то есть строки записываются как столбцы и наоборот.\n",
        "table.rename(columns={0: '2021', 1: '2020', 2: '2019', 3: '2018', 4: '2016', 5: '2015'}, inplace=True)"
      ],
      "execution_count": null,
      "outputs": []
    },
    {
      "cell_type": "code",
      "metadata": {
        "id": "HN8QimFz2LIJ",
        "colab": {
          "base_uri": "https://localhost:8080/",
          "height": 424
        },
        "outputId": "497678d9-d5ca-42b7-cba0-643a4c72ec7a"
      },
      "source": [
        "table"
      ],
      "execution_count": null,
      "outputs": [
        {
          "output_type": "execute_result",
          "data": {
            "text/plain": [
              "                  2021              2020                2019             2018  \\\n",
              "0         (депутат, 1)  (откладывать, 1)          (совет, 1)     (депутат, 1)   \n",
              "1       (посвятить, 1)   (содержание, 1)  (сосредоточить, 1)        (дума, 1)   \n",
              "2     (неизвестный, 1)     (отразить, 1)     (развернуть, 1)    (рубежный, 1)   \n",
              "3       (совещание, 1)   (управление, 1)     (динамичный, 1)      (судьба, 1)   \n",
              "4        (разговор, 1)       (диалог, 1)    (спрессовать, 1)  (поворотный, 1)   \n",
              "...                ...               ...                 ...              ...   \n",
              "1871              None              None                None    (должный, 74)   \n",
              "1872              None              None                None       (этот, 75)   \n",
              "1873              None              None                None     (россия, 85)   \n",
              "1874              None              None                None        (наш, 91)   \n",
              "1875              None              None                None        (год, 97)   \n",
              "\n",
              "                   2016                2015  \n",
              "0           (добрый, 1)  (благодарность, 1)  \n",
              "1             (член, 1)   (георгиевский, 1)  \n",
              "2           (обычно, 1)       (воинский, 1)  \n",
              "3     (неординарный, 1)          (слава, 1)  \n",
              "4      (суверенитет, 1)  (представитель, 1)  \n",
              "...                 ...                 ...  \n",
              "1871               None                None  \n",
              "1872               None                None  \n",
              "1873               None                None  \n",
              "1874               None                None  \n",
              "1875               None                None  \n",
              "\n",
              "[1876 rows x 6 columns]"
            ],
            "text/html": [
              "\n",
              "  <div id=\"df-929cd4e5-c650-4ed7-9387-5ddaee9d4e5b\">\n",
              "    <div class=\"colab-df-container\">\n",
              "      <div>\n",
              "<style scoped>\n",
              "    .dataframe tbody tr th:only-of-type {\n",
              "        vertical-align: middle;\n",
              "    }\n",
              "\n",
              "    .dataframe tbody tr th {\n",
              "        vertical-align: top;\n",
              "    }\n",
              "\n",
              "    .dataframe thead th {\n",
              "        text-align: right;\n",
              "    }\n",
              "</style>\n",
              "<table border=\"1\" class=\"dataframe\">\n",
              "  <thead>\n",
              "    <tr style=\"text-align: right;\">\n",
              "      <th></th>\n",
              "      <th>2021</th>\n",
              "      <th>2020</th>\n",
              "      <th>2019</th>\n",
              "      <th>2018</th>\n",
              "      <th>2016</th>\n",
              "      <th>2015</th>\n",
              "    </tr>\n",
              "  </thead>\n",
              "  <tbody>\n",
              "    <tr>\n",
              "      <th>0</th>\n",
              "      <td>(депутат, 1)</td>\n",
              "      <td>(откладывать, 1)</td>\n",
              "      <td>(совет, 1)</td>\n",
              "      <td>(депутат, 1)</td>\n",
              "      <td>(добрый, 1)</td>\n",
              "      <td>(благодарность, 1)</td>\n",
              "    </tr>\n",
              "    <tr>\n",
              "      <th>1</th>\n",
              "      <td>(посвятить, 1)</td>\n",
              "      <td>(содержание, 1)</td>\n",
              "      <td>(сосредоточить, 1)</td>\n",
              "      <td>(дума, 1)</td>\n",
              "      <td>(член, 1)</td>\n",
              "      <td>(георгиевский, 1)</td>\n",
              "    </tr>\n",
              "    <tr>\n",
              "      <th>2</th>\n",
              "      <td>(неизвестный, 1)</td>\n",
              "      <td>(отразить, 1)</td>\n",
              "      <td>(развернуть, 1)</td>\n",
              "      <td>(рубежный, 1)</td>\n",
              "      <td>(обычно, 1)</td>\n",
              "      <td>(воинский, 1)</td>\n",
              "    </tr>\n",
              "    <tr>\n",
              "      <th>3</th>\n",
              "      <td>(совещание, 1)</td>\n",
              "      <td>(управление, 1)</td>\n",
              "      <td>(динамичный, 1)</td>\n",
              "      <td>(судьба, 1)</td>\n",
              "      <td>(неординарный, 1)</td>\n",
              "      <td>(слава, 1)</td>\n",
              "    </tr>\n",
              "    <tr>\n",
              "      <th>4</th>\n",
              "      <td>(разговор, 1)</td>\n",
              "      <td>(диалог, 1)</td>\n",
              "      <td>(спрессовать, 1)</td>\n",
              "      <td>(поворотный, 1)</td>\n",
              "      <td>(суверенитет, 1)</td>\n",
              "      <td>(представитель, 1)</td>\n",
              "    </tr>\n",
              "    <tr>\n",
              "      <th>...</th>\n",
              "      <td>...</td>\n",
              "      <td>...</td>\n",
              "      <td>...</td>\n",
              "      <td>...</td>\n",
              "      <td>...</td>\n",
              "      <td>...</td>\n",
              "    </tr>\n",
              "    <tr>\n",
              "      <th>1871</th>\n",
              "      <td>None</td>\n",
              "      <td>None</td>\n",
              "      <td>None</td>\n",
              "      <td>(должный, 74)</td>\n",
              "      <td>None</td>\n",
              "      <td>None</td>\n",
              "    </tr>\n",
              "    <tr>\n",
              "      <th>1872</th>\n",
              "      <td>None</td>\n",
              "      <td>None</td>\n",
              "      <td>None</td>\n",
              "      <td>(этот, 75)</td>\n",
              "      <td>None</td>\n",
              "      <td>None</td>\n",
              "    </tr>\n",
              "    <tr>\n",
              "      <th>1873</th>\n",
              "      <td>None</td>\n",
              "      <td>None</td>\n",
              "      <td>None</td>\n",
              "      <td>(россия, 85)</td>\n",
              "      <td>None</td>\n",
              "      <td>None</td>\n",
              "    </tr>\n",
              "    <tr>\n",
              "      <th>1874</th>\n",
              "      <td>None</td>\n",
              "      <td>None</td>\n",
              "      <td>None</td>\n",
              "      <td>(наш, 91)</td>\n",
              "      <td>None</td>\n",
              "      <td>None</td>\n",
              "    </tr>\n",
              "    <tr>\n",
              "      <th>1875</th>\n",
              "      <td>None</td>\n",
              "      <td>None</td>\n",
              "      <td>None</td>\n",
              "      <td>(год, 97)</td>\n",
              "      <td>None</td>\n",
              "      <td>None</td>\n",
              "    </tr>\n",
              "  </tbody>\n",
              "</table>\n",
              "<p>1876 rows × 6 columns</p>\n",
              "</div>\n",
              "      <button class=\"colab-df-convert\" onclick=\"convertToInteractive('df-929cd4e5-c650-4ed7-9387-5ddaee9d4e5b')\"\n",
              "              title=\"Convert this dataframe to an interactive table.\"\n",
              "              style=\"display:none;\">\n",
              "        \n",
              "  <svg xmlns=\"http://www.w3.org/2000/svg\" height=\"24px\"viewBox=\"0 0 24 24\"\n",
              "       width=\"24px\">\n",
              "    <path d=\"M0 0h24v24H0V0z\" fill=\"none\"/>\n",
              "    <path d=\"M18.56 5.44l.94 2.06.94-2.06 2.06-.94-2.06-.94-.94-2.06-.94 2.06-2.06.94zm-11 1L8.5 8.5l.94-2.06 2.06-.94-2.06-.94L8.5 2.5l-.94 2.06-2.06.94zm10 10l.94 2.06.94-2.06 2.06-.94-2.06-.94-.94-2.06-.94 2.06-2.06.94z\"/><path d=\"M17.41 7.96l-1.37-1.37c-.4-.4-.92-.59-1.43-.59-.52 0-1.04.2-1.43.59L10.3 9.45l-7.72 7.72c-.78.78-.78 2.05 0 2.83L4 21.41c.39.39.9.59 1.41.59.51 0 1.02-.2 1.41-.59l7.78-7.78 2.81-2.81c.8-.78.8-2.07 0-2.86zM5.41 20L4 18.59l7.72-7.72 1.47 1.35L5.41 20z\"/>\n",
              "  </svg>\n",
              "      </button>\n",
              "      \n",
              "  <style>\n",
              "    .colab-df-container {\n",
              "      display:flex;\n",
              "      flex-wrap:wrap;\n",
              "      gap: 12px;\n",
              "    }\n",
              "\n",
              "    .colab-df-convert {\n",
              "      background-color: #E8F0FE;\n",
              "      border: none;\n",
              "      border-radius: 50%;\n",
              "      cursor: pointer;\n",
              "      display: none;\n",
              "      fill: #1967D2;\n",
              "      height: 32px;\n",
              "      padding: 0 0 0 0;\n",
              "      width: 32px;\n",
              "    }\n",
              "\n",
              "    .colab-df-convert:hover {\n",
              "      background-color: #E2EBFA;\n",
              "      box-shadow: 0px 1px 2px rgba(60, 64, 67, 0.3), 0px 1px 3px 1px rgba(60, 64, 67, 0.15);\n",
              "      fill: #174EA6;\n",
              "    }\n",
              "\n",
              "    [theme=dark] .colab-df-convert {\n",
              "      background-color: #3B4455;\n",
              "      fill: #D2E3FC;\n",
              "    }\n",
              "\n",
              "    [theme=dark] .colab-df-convert:hover {\n",
              "      background-color: #434B5C;\n",
              "      box-shadow: 0px 1px 3px 1px rgba(0, 0, 0, 0.15);\n",
              "      filter: drop-shadow(0px 1px 2px rgba(0, 0, 0, 0.3));\n",
              "      fill: #FFFFFF;\n",
              "    }\n",
              "  </style>\n",
              "\n",
              "      <script>\n",
              "        const buttonEl =\n",
              "          document.querySelector('#df-929cd4e5-c650-4ed7-9387-5ddaee9d4e5b button.colab-df-convert');\n",
              "        buttonEl.style.display =\n",
              "          google.colab.kernel.accessAllowed ? 'block' : 'none';\n",
              "\n",
              "        async function convertToInteractive(key) {\n",
              "          const element = document.querySelector('#df-929cd4e5-c650-4ed7-9387-5ddaee9d4e5b');\n",
              "          const dataTable =\n",
              "            await google.colab.kernel.invokeFunction('convertToInteractive',\n",
              "                                                     [key], {});\n",
              "          if (!dataTable) return;\n",
              "\n",
              "          const docLinkHtml = 'Like what you see? Visit the ' +\n",
              "            '<a target=\"_blank\" href=https://colab.research.google.com/notebooks/data_table.ipynb>data table notebook</a>'\n",
              "            + ' to learn more about interactive tables.';\n",
              "          element.innerHTML = '';\n",
              "          dataTable['output_type'] = 'display_data';\n",
              "          await google.colab.output.renderOutput(dataTable, element);\n",
              "          const docLink = document.createElement('div');\n",
              "          docLink.innerHTML = docLinkHtml;\n",
              "          element.appendChild(docLink);\n",
              "        }\n",
              "      </script>\n",
              "    </div>\n",
              "  </div>\n",
              "  "
            ]
          },
          "metadata": {},
          "execution_count": 18
        }
      ]
    },
    {
      "cell_type": "code",
      "metadata": {
        "id": "d3bxBoAeufIK"
      },
      "source": [
        "#запишем табличку в файл. По ней будем считать TF-IDF (об этом чуть ниже)\n",
        "\n",
        "table.to_csv('poslaniya_freq.csv')"
      ],
      "execution_count": null,
      "outputs": []
    },
    {
      "cell_type": "code",
      "metadata": {
        "colab": {
          "base_uri": "https://localhost:8080/"
        },
        "id": "TzQ125G377xE",
        "outputId": "aac4d2e6-508b-4caf-b5a4-833ed086fb05"
      },
      "source": [
        "#посмотрим, что у нас получилось в словаре глаголов\n",
        "\n",
        "print(len(putin_verbs))"
      ],
      "execution_count": null,
      "outputs": [
        {
          "output_type": "stream",
          "name": "stdout",
          "text": [
            "1163\n"
          ]
        }
      ]
    },
    {
      "cell_type": "code",
      "source": [
        "print(putin_verbs)"
      ],
      "metadata": {
        "id": "f8ijYWqDFTMS"
      },
      "execution_count": null,
      "outputs": []
    },
    {
      "cell_type": "code",
      "metadata": {
        "id": "px4BB72Gl3eF"
      },
      "source": [
        "#теперь с этим словарем глаголов можно по-разному работать. Например, построить облако из 100 самых частых глаголов в посланиях\n",
        "#для этого импортируем matplotlib - библиотеку для визуализации данных\n",
        "\n",
        "import matplotlib.pyplot as plt\n",
        "% matplotlib inline"
      ],
      "execution_count": null,
      "outputs": []
    },
    {
      "cell_type": "code",
      "metadata": {
        "id": "9eU3UANeG7HL"
      },
      "source": [
        "! git clone https://github.com/amueller/word_cloud.git\n",
        "! cd word_cloud\n",
        "! pip install wordcloud"
      ],
      "execution_count": null,
      "outputs": []
    },
    {
      "cell_type": "code",
      "metadata": {
        "id": "z407ymWNHLPM"
      },
      "source": [
        "from wordcloud import WordCloud"
      ],
      "execution_count": null,
      "outputs": []
    },
    {
      "cell_type": "code",
      "metadata": {
        "colab": {
          "base_uri": "https://localhost:8080/",
          "height": 672
        },
        "id": "nmHzGha0mdbO",
        "outputId": "6d3f2cca-8db4-4ac5-cb6f-52cec541fb15"
      },
      "source": [
        "wc = WordCloud(width=2600, height=2200, background_color=\"white\", relative_scaling=1.0,\n",
        "               collocations=False, min_font_size=10).generate_from_frequencies(putin_verbs)\n",
        "plt.axis(\"off\")\n",
        "plt.figure(figsize=(9, 6))\n",
        "plt.imshow(wc, interpolation=\"bilinear\")\n",
        "plt.xticks([])\n",
        "plt.yticks([])\n",
        "plt.tight_layout()\n",
        "file_name = 'putin-verbs-%d.png'\n",
        "plt.show()"
      ],
      "execution_count": null,
      "outputs": [
        {
          "output_type": "display_data",
          "data": {
            "text/plain": [
              "<Figure size 432x288 with 1 Axes>"
            ],
            "image/png": "[encoded data removed]"
          },
          "metadata": {
            "needs_background": "light"
          }
        },
        {
          "output_type": "display_data",
          "data": {
            "text/plain": [
              "<Figure size 648x432 with 1 Axes>"
            ],
            "image/png": "[encoded data removed]"
          },
          "metadata": {}
        }
      ]
    },
    {
      "cell_type": "markdown",
      "metadata": {
        "id": "eYIC4hgalvEY"
      },
      "source": [
        "##Вернемся к нашему словарю частотности по каждому из посланий\n",
        "\n",
        "по нему мы будет считать статистическую меру **TF-IDF**.\n",
        "Ее можно посчитать кодом, но чтобы понять что это такое и зачем, лучше первые разы считать руками.\n",
        "\n",
        "**TF-IDF (от англ. TF - term frequency, IDF  - inverse document frequency)**\n",
        "\n",
        "Мера позволяет оценить вес (важность) слова в контексте документа, являющегося частью корпуса. Вес слова пропорционален частоте его употребления этого слова в этом конкретном тесте и обратно пропорционален частоте употребления слова во всех документах корпуса. \n",
        "\n",
        "**TF слова** = количество раз, когда слово встретилось в тексте (частота леммы) / количество всех слов в тексте (кол-во токенов).\n",
        "\n",
        "**IDF слова** = логарифм(общее количество текстов / количество текстов, в которых встречается слово)\n",
        "\n",
        "**TF-IDF слова** = TF слова * IDF слова\n",
        "\n",
        "Обработка результата и расчет TF-IDF по посланиям президента Федеральному собранию РФ - в гуглдоке: https://docs.google.com/spreadsheets/d/1r3x9E3ybfj00zaIx0-ngoDyxk9OmuHpYSN927Awv9UY/edit?usp=sharing"
      ]
    }
  ]
}